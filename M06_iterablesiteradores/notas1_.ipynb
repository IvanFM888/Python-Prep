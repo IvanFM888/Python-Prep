{
 "cells": [
  {
   "cell_type": "code",
   "execution_count": 1,
   "metadata": {},
   "outputs": [
    {
     "name": "stdout",
     "output_type": "stream",
     "text": [
      "2\n",
      "3\n",
      "4\n",
      "5\n"
     ]
    }
   ],
   "source": [
    "#iteradores e iterables\n",
    "lista =[2,3,4,5]\n",
    "i=0 \n",
    "while i <len(lista):\n",
    "    elemento = lista[i]\n",
    "    print(elemento)\n",
    "    i+=1"
   ]
  },
  {
   "cell_type": "code",
   "execution_count": 2,
   "metadata": {},
   "outputs": [
    {
     "name": "stdout",
     "output_type": "stream",
     "text": [
      "3\n",
      "4\n",
      "5\n",
      "6\n"
     ]
    }
   ],
   "source": [
    "lista=[3,4,5,6]\n",
    "for elemento in lista:\n",
    "        print(elemento)\n",
    "        "
   ]
  },
  {
   "cell_type": "code",
   "execution_count": 3,
   "metadata": {},
   "outputs": [
    {
     "name": "stdout",
     "output_type": "stream",
     "text": [
      "h\n",
      "e\n",
      "n\n",
      "r\n",
      "y\n"
     ]
    }
   ],
   "source": [
    "cadena =\"henry\"\n",
    "for c in cadena:\n",
    "    print(c)"
   ]
  },
  {
   "cell_type": "code",
   "execution_count": 4,
   "metadata": {},
   "outputs": [
    {
     "name": "stdout",
     "output_type": "stream",
     "text": [
      "(0, 'h')\n",
      "(1, 'e')\n",
      "(2, 'n')\n",
      "(3, 'r')\n",
      "(4, 'y')\n"
     ]
    }
   ],
   "source": [
    "cadena=\"henry\"\n",
    "for c in enumerate(cadena):\n",
    "    print(c)\n",
    "\n",
    "#enumerate agrega un indice a cada caracter dentro de la lista o cadena\n",
    "#se imprime una tupla que contiene el indice y la letra"
   ]
  },
  {
   "cell_type": "code",
   "execution_count": null,
   "metadata": {},
   "outputs": [],
   "source": [
    "#¿cómo saber si es iterable o no?\n",
    "1. consultar documentación oficial\n",
    "2. ver si hera de iterable\n",
    "\n"
   ]
  },
  {
   "cell_type": "code",
   "execution_count": 7,
   "metadata": {},
   "outputs": [
    {
     "data": {
      "text/plain": [
       "True"
      ]
     },
     "execution_count": 7,
     "metadata": {},
     "output_type": "execute_result"
    }
   ],
   "source": [
    "#método insistance\n",
    "from collections.abc import Iterable\n",
    "cadena = \"henry\"\n",
    "numero = 9\n",
    "\n",
    "isinstance(cadena, Iterable)\n"
   ]
  },
  {
   "cell_type": "code",
   "execution_count": 8,
   "metadata": {},
   "outputs": [
    {
     "data": {
      "text/plain": [
       "False"
      ]
     },
     "execution_count": 8,
     "metadata": {},
     "output_type": "execute_result"
    }
   ],
   "source": [
    "isinstance(numero,Iterable)"
   ]
  },
  {
   "cell_type": "code",
   "execution_count": null,
   "metadata": {},
   "outputs": [],
   "source": [
    "#list() convierte a lista una clase iterable\n",
    "#sum() para sumar\n",
    "#join() permite unir cada elemento de una clase itearable con el primer argumento usado\n"
   ]
  },
  {
   "cell_type": "code",
   "execution_count": 9,
   "metadata": {},
   "outputs": [
    {
     "name": "stdout",
     "output_type": "stream",
     "text": [
      "['h', 'e', 'n', 'r', 'y']\n"
     ]
    }
   ],
   "source": [
    "#list\n",
    "print(list(\"henry\"))"
   ]
  },
  {
   "cell_type": "code",
   "execution_count": 11,
   "metadata": {},
   "outputs": [
    {
     "name": "stdout",
     "output_type": "stream",
     "text": [
      "6\n"
     ]
    }
   ],
   "source": [
    "#sum\n",
    "print(sum([1,2,3]))"
   ]
  },
  {
   "cell_type": "code",
   "execution_count": 13,
   "metadata": {},
   "outputs": [
    {
     "name": "stdout",
     "output_type": "stream",
     "text": [
      "h-e-n-r-y\n",
      "h,e,n,r,y\n"
     ]
    }
   ],
   "source": [
    "#join\n",
    "print(\"-\".join(\"henry\"))\n",
    "print(\",\".join(\"henry\"))"
   ]
  },
  {
   "cell_type": "code",
   "execution_count": 14,
   "metadata": {},
   "outputs": [
    {
     "name": "stdout",
     "output_type": "stream",
     "text": [
      "a\n",
      "b\n",
      "c\n"
     ]
    }
   ],
   "source": [
    "mi_diccionario ={'a':1,'b':2,'c':3}\n",
    "for i in mi_diccionario:\n",
    "    print(i)\n",
    "    "
   ]
  }
 ],
 "metadata": {
  "kernelspec": {
   "display_name": "Python 3",
   "language": "python",
   "name": "python3"
  },
  "language_info": {
   "codemirror_mode": {
    "name": "ipython",
    "version": 3
   },
   "file_extension": ".py",
   "mimetype": "text/x-python",
   "name": "python",
   "nbconvert_exporter": "python",
   "pygments_lexer": "ipython3",
   "version": "3.11.4"
  },
  "orig_nbformat": 4
 },
 "nbformat": 4,
 "nbformat_minor": 2
}
