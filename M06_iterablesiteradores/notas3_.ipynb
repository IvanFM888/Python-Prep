{
 "cells": [
  {
   "cell_type": "code",
   "execution_count": null,
   "metadata": {},
   "outputs": [],
   "source": [
    "#sentencia zip()\n",
    "toma dos o más iterables y las combina\n",
    "\n",
    "se pueden combinar dos listas en una lista de tuplas\n",
    "\n",
    "sintaxis: iterables como argumentos\n",
    "\n"
   ]
  },
  {
   "cell_type": "code",
   "execution_count": 3,
   "metadata": {},
   "outputs": [
    {
     "name": "stdout",
     "output_type": "stream",
     "text": [
      "<class 'zip'>\n"
     ]
    }
   ],
   "source": [
    "lista_1 = [1,2,3]\n",
    "lista_2 = ['a','b','c']\n",
    "combinacion = zip(lista_1,lista_2)\n",
    "print(type(combinacion))"
   ]
  },
  {
   "cell_type": "code",
   "execution_count": 4,
   "metadata": {},
   "outputs": [
    {
     "name": "stdout",
     "output_type": "stream",
     "text": [
      "(1, 'a')\n",
      "(2, 'b')\n",
      "(3, 'c')\n"
     ]
    }
   ],
   "source": [
    "for elemento in combinacion:\n",
    "    print(elemento)"
   ]
  },
  {
   "cell_type": "code",
   "execution_count": 6,
   "metadata": {},
   "outputs": [
    {
     "name": "stdout",
     "output_type": "stream",
     "text": [
      "<class 'zip'>\n",
      "(1, 'a', 'I')\n",
      "(2, 'b', 'II')\n",
      "(3, 'c', 'III')\n"
     ]
    }
   ],
   "source": [
    "lista_1 = [1,2,3]\n",
    "lista_2 = ['a','b','c']\n",
    "lista_3 = ['I','II','III']\n",
    "combinacion = zip(lista_1,lista_2,lista_3)\n",
    "print(type(combinacion))\n",
    "for elemento in combinacion:\n",
    "    print(elemento)"
   ]
  }
 ],
 "metadata": {
  "kernelspec": {
   "display_name": "Python 3",
   "language": "python",
   "name": "python3"
  },
  "language_info": {
   "codemirror_mode": {
    "name": "ipython",
    "version": 3
   },
   "file_extension": ".py",
   "mimetype": "text/x-python",
   "name": "python",
   "nbconvert_exporter": "python",
   "pygments_lexer": "ipython3",
   "version": "3.11.4"
  },
  "orig_nbformat": 4
 },
 "nbformat": 4,
 "nbformat_minor": 2
}
