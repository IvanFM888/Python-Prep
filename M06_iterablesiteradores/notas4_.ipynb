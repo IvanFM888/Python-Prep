{
 "cells": [
  {
   "cell_type": "markdown",
   "metadata": {},
   "source": [
    "#añadiendo condicionales\n",
    "sintaxis\n",
    "lista = [expresión for elemento in iterable if condición]\n",
    "lista es el nombre de la lista que se creara a partir de la compresión de listas\n",
    "expresion es la operación que se realizará en cada elemento del iterable para crear el elemento de la nueva lista\n",
    "elemento es la variable que represnta cada elemento del iterable orginal\n",
    "iterable es la secuencia original de la que se creara la nueva lista\n",
    "if es una expresión booleanda que se evalua en cada elemento del iterable\n"
   ]
  },
  {
   "cell_type": "code",
   "execution_count": 1,
   "metadata": {},
   "outputs": [
    {
     "name": "stdout",
     "output_type": "stream",
     "text": [
      "[4, 8, 12]\n"
     ]
    }
   ],
   "source": [
    "numeros = [1,2,3,4,5,6]\n",
    "pares_por_dos=[x*2 for x in numeros if x%2==0]\n",
    "print(pares_por_dos)"
   ]
  },
  {
   "cell_type": "code",
   "execution_count": 2,
   "metadata": {},
   "outputs": [
    {
     "name": "stdout",
     "output_type": "stream",
     "text": [
      "['r', 'r', 'r', 'r']\n"
     ]
    }
   ],
   "source": [
    "frase= \"el perro de san roque no tiene rabo\" \n",
    "erres=[c for c in frase if c=='r']\n",
    "print(erres)"
   ]
  },
  {
   "cell_type": "code",
   "execution_count": 3,
   "metadata": {},
   "outputs": [
    {
     "name": "stdout",
     "output_type": "stream",
     "text": [
      "4\n"
     ]
    }
   ],
   "source": [
    "print(len(erres))"
   ]
  },
  {
   "cell_type": "markdown",
   "metadata": {},
   "source": [
    "1\n",
    "lista: el nombre de la lista que se creará a partir de la comprensión de listas.\n",
    "\n",
    "2\n",
    "expresión: la operación que se realizará en cada elemento del iterable para crear el elemento de la nueva lista. Esta expresión puede ser una operación matemática, una llamada a una función, una concatenación de cadenas, entre otras.\n",
    "\n",
    "3\n",
    "elemento: la variable que representa cada elemento del iterable original. Esta variable se utiliza dentro de la expresión.\n",
    "\n",
    "4\n",
    "iterable: la secuencia original de la que se creará la nueva lista. Puede ser una lista, una tupla, un rango, un conjunto, entre otros.\n",
    "\n",
    "5\n",
    "condición if: una expresión booleana que se evalúa en cada elemento del iterable. Solo se aplicará la expresión a aquellos elementos que cumplan la condición. Si no se especifica una condición, la expresión se aplicará a todos los elementos del iterable."
   ]
  }
 ],
 "metadata": {
  "kernelspec": {
   "display_name": "Python 3",
   "language": "python",
   "name": "python3"
  },
  "language_info": {
   "codemirror_mode": {
    "name": "ipython",
    "version": 3
   },
   "file_extension": ".py",
   "mimetype": "text/x-python",
   "name": "python",
   "nbconvert_exporter": "python",
   "pygments_lexer": "ipython3",
   "version": "3.11.4"
  },
  "orig_nbformat": 4
 },
 "nbformat": 4,
 "nbformat_minor": 2
}
