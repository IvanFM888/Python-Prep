{
 "cells": [
  {
   "cell_type": "code",
   "execution_count": null,
   "metadata": {},
   "outputs": [],
   "source": [
    "#El sistema binario es un sistema numérico que utiliza únicamente dos dígitos: \n",
    "#0 y 1. \n",
    "#el sistema binario simplifica las representaciones numéricas al utilizar solo dos estados posibles.\n",
    "\n",
    "#Cada dígito en un número binario se denomina \"bit\"\n",
    "#Un bit puede estar en uno de los dos estados: encendido (1) o apagado (0)"
   ]
  }
 ],
 "metadata": {
  "language_info": {
   "name": "python"
  },
  "orig_nbformat": 4
 },
 "nbformat": 4,
 "nbformat_minor": 2
}
