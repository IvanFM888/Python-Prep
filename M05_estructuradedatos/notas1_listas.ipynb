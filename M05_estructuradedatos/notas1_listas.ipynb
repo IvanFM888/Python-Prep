{
 "cells": [
  {
   "cell_type": "code",
   "execution_count": 4,
   "metadata": {},
   "outputs": [
    {
     "data": {
      "text/plain": [
       "[1, 2, 3, 4, 5]"
      ]
     },
     "execution_count": 4,
     "metadata": {},
     "output_type": "execute_result"
    }
   ],
   "source": [
    "#Listas, tuplas y diccionarios\n",
    "#Las estructuras de datos son conjuntos o colecciones de elementos \n",
    "#que nos permiten almacenar otros tipos de variables\n",
    "#lista consiste en una serie ordenada de datos\n",
    "#son elementos separados por comas y entre corchetes\n",
    "#[lechuga, tomate, zanahoria]\n",
    "[1,2,3,4,5]\n"
   ]
  },
  {
   "cell_type": "code",
   "execution_count": 6,
   "metadata": {},
   "outputs": [
    {
     "data": {
      "text/plain": [
       "['a', 'b', 'c', 'd', 'e']"
      ]
     },
     "execution_count": 6,
     "metadata": {},
     "output_type": "execute_result"
    }
   ],
   "source": [
    "[\"a\",\"b\",\"c\",\"d\",\"e\"]\n"
   ]
  },
  {
   "cell_type": "code",
   "execution_count": 8,
   "metadata": {},
   "outputs": [
    {
     "data": {
      "text/plain": [
       "['a', 2, 'c', 3.5, 4]"
      ]
     },
     "execution_count": 8,
     "metadata": {},
     "output_type": "execute_result"
    }
   ],
   "source": [
    "[\"a\",2,\"c\",3.5,4]"
   ]
  },
  {
   "cell_type": "code",
   "execution_count": 11,
   "metadata": {},
   "outputs": [],
   "source": [
    "numeros = [1,2,3,4,5]\n",
    "letras = [\"a\",\"b\",\"c\",\"d\",\"e\"]\n",
    "lista_vacia = []"
   ]
  },
  {
   "cell_type": "code",
   "execution_count": 12,
   "metadata": {},
   "outputs": [
    {
     "name": "stdout",
     "output_type": "stream",
     "text": [
      "[1, 2, 3, 4, 5]\n",
      "['a', 'b', 'c', 'd', 'e']\n",
      "[]\n"
     ]
    }
   ],
   "source": [
    "print(numeros)\n",
    "print(letras)\n",
    "print(lista_vacia)"
   ]
  },
  {
   "cell_type": "code",
   "execution_count": 13,
   "metadata": {},
   "outputs": [
    {
     "name": "stdout",
     "output_type": "stream",
     "text": [
      "<class 'list'>\n",
      "<class 'list'>\n",
      "<class 'list'>\n"
     ]
    }
   ],
   "source": [
    "print(type(numeros))\n",
    "print(type(letras))\n",
    "print(type(lista_vacia))"
   ]
  },
  {
   "cell_type": "code",
   "execution_count": null,
   "metadata": {},
   "outputs": [],
   "source": [
    "#Si se quiere acceder a un elemento especifico se requiere un indice de referencia\n",
    "#los indices empiezan en 0"
   ]
  },
  {
   "cell_type": "code",
   "execution_count": 16,
   "metadata": {},
   "outputs": [
    {
     "name": "stdout",
     "output_type": "stream",
     "text": [
      "amarillo\n"
     ]
    }
   ],
   "source": [
    "mi_lista=[\"rojo\",\"azul\",\"amarillo\",\"naranja\",\"violeta\",\"verde\"]\n",
    "print(mi_lista[2]) #los indices siempre empiezan en 0"
   ]
  },
  {
   "cell_type": "code",
   "execution_count": 18,
   "metadata": {},
   "outputs": [
    {
     "name": "stdout",
     "output_type": "stream",
     "text": [
      "['rojo', 'azul']\n"
     ]
    }
   ],
   "source": [
    "print(mi_lista[0:2])"
   ]
  },
  {
   "cell_type": "code",
   "execution_count": 19,
   "metadata": {},
   "outputs": [
    {
     "name": "stdout",
     "output_type": "stream",
     "text": [
      "['rojo', 'azul']\n"
     ]
    }
   ],
   "source": [
    "print(mi_lista[:2])"
   ]
  },
  {
   "cell_type": "code",
   "execution_count": 20,
   "metadata": {},
   "outputs": [
    {
     "name": "stdout",
     "output_type": "stream",
     "text": [
      "['rojo', 'azul', 'amarillo', 'naranja', 'violeta', 'verde']\n"
     ]
    }
   ],
   "source": [
    "print(mi_lista[0:])"
   ]
  },
  {
   "cell_type": "code",
   "execution_count": 21,
   "metadata": {},
   "outputs": [
    {
     "name": "stdout",
     "output_type": "stream",
     "text": [
      "['rojo', 'azul', 'amarillo', 'naranja', 'violeta', 'verde']\n"
     ]
    }
   ],
   "source": [
    "print(mi_lista[:])"
   ]
  },
  {
   "cell_type": "code",
   "execution_count": 23,
   "metadata": {},
   "outputs": [
    {
     "name": "stdout",
     "output_type": "stream",
     "text": [
      "['rojo', 'azul', 'amarillo', 'naranja', 'violeta', 'verde', 'blanco']\n"
     ]
    }
   ],
   "source": [
    "mi_lista.append(\"blanco\")#agregar un nuevo valor \n",
    "print(mi_lista)"
   ]
  },
  {
   "cell_type": "code",
   "execution_count": 24,
   "metadata": {},
   "outputs": [
    {
     "name": "stdout",
     "output_type": "stream",
     "text": [
      "['rojo', 'azul', 'amarillo', 'negro', 'naranja', 'violeta', 'verde', 'blanco']\n"
     ]
    }
   ],
   "source": [
    "mi_lista.insert(3,\"negro\")#agregar un nuevo valor en un indice especifico\n",
    "print(mi_lista)"
   ]
  },
  {
   "cell_type": "code",
   "execution_count": 25,
   "metadata": {},
   "outputs": [],
   "source": [
    "mi_lista.extend([\"rosa\",\"gris\"])#concatenar con otra lista"
   ]
  },
  {
   "cell_type": "code",
   "execution_count": 26,
   "metadata": {},
   "outputs": [
    {
     "name": "stdout",
     "output_type": "stream",
     "text": [
      "['rojo', 'azul', 'amarillo', 'negro', 'naranja', 'violeta', 'verde', 'blanco', 'rosa', 'gris']\n"
     ]
    }
   ],
   "source": [
    "print(mi_lista)"
   ]
  },
  {
   "cell_type": "code",
   "execution_count": 27,
   "metadata": {},
   "outputs": [
    {
     "data": {
      "text/plain": [
       "1"
      ]
     },
     "execution_count": 27,
     "metadata": {},
     "output_type": "execute_result"
    }
   ],
   "source": [
    "mi_lista.index(\"azul\")#saber en que indice se encuentra un valor"
   ]
  },
  {
   "cell_type": "code",
   "execution_count": 28,
   "metadata": {},
   "outputs": [
    {
     "name": "stdout",
     "output_type": "stream",
     "text": [
      "['rojo', 'azul', 'amarillo', 'negro', 'naranja', 'violeta', 'verde', 'blanco', 'rosa', 'gris']\n"
     ]
    }
   ],
   "source": [
    "mi_lista.index(\"negro\")\n",
    "print(mi_lista)"
   ]
  },
  {
   "cell_type": "code",
   "execution_count": 29,
   "metadata": {},
   "outputs": [
    {
     "name": "stdout",
     "output_type": "stream",
     "text": [
      "['rojo', 'azul', 'amarillo', 'negro', 'naranja', 'violeta', 'verde', 'blanco', 'rosa']\n"
     ]
    }
   ],
   "source": [
    "ultimo = mi_lista.pop()\n",
    "print(mi_lista)\n"
   ]
  },
  {
   "cell_type": "code",
   "execution_count": 30,
   "metadata": {},
   "outputs": [
    {
     "name": "stdout",
     "output_type": "stream",
     "text": [
      "gris\n"
     ]
    }
   ],
   "source": [
    "print(ultimo)"
   ]
  },
  {
   "cell_type": "code",
   "execution_count": 31,
   "metadata": {},
   "outputs": [
    {
     "name": "stdout",
     "output_type": "stream",
     "text": [
      "['rojo', 'amarillo', 'negro', 'naranja', 'violeta', 'verde', 'blanco', 'rosa']\n",
      "azul\n"
     ]
    }
   ],
   "source": [
    "segundo = mi_lista.pop(1)\n",
    "print(mi_lista)\n",
    "print(segundo)\n"
   ]
  },
  {
   "cell_type": "code",
   "execution_count": 32,
   "metadata": {},
   "outputs": [
    {
     "name": "stdout",
     "output_type": "stream",
     "text": [
      "[22, 23, 24, 22, 23, 24, 22, 23, 24]\n"
     ]
    }
   ],
   "source": [
    "lista= [22,23,24] #multiplicar lista\n",
    "print(lista*3)"
   ]
  },
  {
   "cell_type": "code",
   "execution_count": 33,
   "metadata": {},
   "outputs": [
    {
     "name": "stdout",
     "output_type": "stream",
     "text": [
      "[22, 23, 24]\n"
     ]
    }
   ],
   "source": [
    "print(lista)"
   ]
  },
  {
   "cell_type": "code",
   "execution_count": 34,
   "metadata": {},
   "outputs": [
    {
     "name": "stdout",
     "output_type": "stream",
     "text": [
      "[22, 23, 24, 22, 23, 24, 22, 23, 24]\n"
     ]
    }
   ],
   "source": [
    "lista_por_tres = lista*3\n",
    "print(lista_por_tres)"
   ]
  },
  {
   "cell_type": "code",
   "execution_count": 35,
   "metadata": {},
   "outputs": [
    {
     "name": "stdout",
     "output_type": "stream",
     "text": [
      "[1, 2, 3, 4, 6, 8]\n"
     ]
    }
   ],
   "source": [
    "lista=[1,4,3,6,8,2]\n",
    "lista.sort()\n",
    "print(lista)"
   ]
  },
  {
   "cell_type": "code",
   "execution_count": 36,
   "metadata": {},
   "outputs": [
    {
     "name": "stdout",
     "output_type": "stream",
     "text": [
      "['amarillo', 'azul', 'blanco', 'gris', 'naranja', 'negro', 'rojo', 'rosa', 'verde', 'violeta']\n"
     ]
    }
   ],
   "source": [
    "mi_lista=[\"rojo\",\"azul\",\"amarillo\",\"negro\",\"naranja\",\"violeta\",\"verde\",\"blanco\",\"rosa\",\"gris\"]\n",
    "mi_lista.sort()   \n",
    "print(mi_lista)      "
   ]
  },
  {
   "cell_type": "code",
   "execution_count": 38,
   "metadata": {},
   "outputs": [
    {
     "name": "stdout",
     "output_type": "stream",
     "text": [
      "[8, 6, 4, 3, 2, 1]\n"
     ]
    }
   ],
   "source": [
    "lista=[1,4,3,6,8,2]\n",
    "lista.sort(reverse=True)\n",
    "print(lista)"
   ]
  },
  {
   "cell_type": "code",
   "execution_count": 39,
   "metadata": {},
   "outputs": [
    {
     "name": "stdout",
     "output_type": "stream",
     "text": [
      "['violeta', 'verde', 'rosa', 'rojo', 'negro', 'naranja', 'gris', 'blanco', 'azul', 'amarillo']\n"
     ]
    }
   ],
   "source": [
    "mi_lista=[\"rojo\",\"azul\",\"amarillo\",\"negro\",\"naranja\",\"violeta\",\"verde\",\"blanco\",\"rosa\",\"gris\"]\n",
    "mi_lista.sort(reverse=True)   \n",
    "print(mi_lista)   "
   ]
  }
 ],
 "metadata": {
  "kernelspec": {
   "display_name": "Python 3",
   "language": "python",
   "name": "python3"
  },
  "language_info": {
   "codemirror_mode": {
    "name": "ipython",
    "version": 3
   },
   "file_extension": ".py",
   "mimetype": "text/x-python",
   "name": "python",
   "nbconvert_exporter": "python",
   "pygments_lexer": "ipython3",
   "version": "3.11.4"
  },
  "orig_nbformat": 4
 },
 "nbformat": 4,
 "nbformat_minor": 2
}
