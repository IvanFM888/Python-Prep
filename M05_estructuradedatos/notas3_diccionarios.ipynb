{
 "cells": [
  {
   "cell_type": "code",
   "execution_count": null,
   "metadata": {},
   "outputs": [],
   "source": [
    "#Diccionarios\n",
    "#claves y conjuntos de valores\n",
    "# se identifican con { }\n",
    "#clave - valor\n",
    "#podemos usar la función dict\n"
   ]
  },
  {
   "cell_type": "code",
   "execution_count": 2,
   "metadata": {},
   "outputs": [
    {
     "data": {
      "text/plain": [
       "dict"
      ]
     },
     "execution_count": 2,
     "metadata": {},
     "output_type": "execute_result"
    }
   ],
   "source": [
    "primer_diccionaro=dict()\n",
    "primer_diccionaro\n",
    "type(primer_diccionaro)"
   ]
  },
  {
   "cell_type": "code",
   "execution_count": 3,
   "metadata": {},
   "outputs": [
    {
     "data": {
      "text/plain": [
       "{'primero': 'uno'}"
      ]
     },
     "execution_count": 3,
     "metadata": {},
     "output_type": "execute_result"
    }
   ],
   "source": [
    "primer_diccionaro['primero']='uno'\n",
    "primer_diccionaro"
   ]
  },
  {
   "cell_type": "code",
   "execution_count": 4,
   "metadata": {},
   "outputs": [
    {
     "data": {
      "text/plain": [
       "{'primero': 'uno', 'segundo': 'dos', 'tercero': 'tres'}"
      ]
     },
     "execution_count": 4,
     "metadata": {},
     "output_type": "execute_result"
    }
   ],
   "source": [
    "primer_diccionaro['segundo']='dos'\n",
    "primer_diccionaro['tercero']='tres'\n",
    "\n",
    "primer_diccionaro"
   ]
  },
  {
   "cell_type": "code",
   "execution_count": 6,
   "metadata": {},
   "outputs": [
    {
     "name": "stdout",
     "output_type": "stream",
     "text": [
      "{'cuatro': 4, 'cinco': 5, 'seis': 6}\n"
     ]
    }
   ],
   "source": [
    "segundo_diccionario={'cuatro':4,'cinco':5,'seis':6}\n",
    "print(segundo_diccionario)"
   ]
  },
  {
   "cell_type": "code",
   "execution_count": 7,
   "metadata": {},
   "outputs": [
    {
     "name": "stdout",
     "output_type": "stream",
     "text": [
      "4\n"
     ]
    }
   ],
   "source": [
    "print(segundo_diccionario['cuatro'])"
   ]
  },
  {
   "cell_type": "code",
   "execution_count": 14,
   "metadata": {},
   "outputs": [],
   "source": [
    "mi_diccionario={'colores primarios':['rojo','azul','amarillo'],'colores secundarios':['naranja','violeta','verde'],'clave 3':10,'clave 4':False}\n"
   ]
  },
  {
   "cell_type": "code",
   "execution_count": 13,
   "metadata": {},
   "outputs": [
    {
     "name": "stdout",
     "output_type": "stream",
     "text": [
      "{'colores primarios': ['rojo', 'azul', 'amarillo'], 'colores secundarios': ['naranja', 'violeta', 'verde'], 'clave 3': 10, 'clave 4': False}\n"
     ]
    }
   ],
   "source": [
    "print(mi_diccionario)"
   ]
  },
  {
   "cell_type": "code",
   "execution_count": 17,
   "metadata": {},
   "outputs": [],
   "source": [
    "del mi_diccionario['clave 4']"
   ]
  },
  {
   "cell_type": "code",
   "execution_count": 18,
   "metadata": {},
   "outputs": [
    {
     "name": "stdout",
     "output_type": "stream",
     "text": [
      "{'colores primarios': ['rojo', 'azul', 'amarillo'], 'colores secundarios': ['naranja', 'violeta', 'verde'], 'clave 3': 10}\n"
     ]
    }
   ],
   "source": [
    "print(mi_diccionario)"
   ]
  },
  {
   "cell_type": "code",
   "execution_count": 20,
   "metadata": {},
   "outputs": [],
   "source": [
    "mi_tupla = (\"argentina\",\"italia\",\"inglaterra\")\n"
   ]
  },
  {
   "cell_type": "code",
   "execution_count": 23,
   "metadata": {},
   "outputs": [],
   "source": [
    "#diccionario con tuplas\n",
    "mi_diccionario={mi_tupla[0]:\"Buenos Aires\",mi_tupla[1]:\"Roma\",mi_tupla[2]:\"londres\"}"
   ]
  },
  {
   "cell_type": "code",
   "execution_count": 25,
   "metadata": {},
   "outputs": [
    {
     "name": "stdout",
     "output_type": "stream",
     "text": [
      "{'argentina': 'Buenos Aires', 'italia': 'Roma', 'inglaterra': 'londres'}\n"
     ]
    }
   ],
   "source": [
    "print(mi_diccionario)\n",
    "#clave - valor"
   ]
  },
  {
   "cell_type": "code",
   "execution_count": 27,
   "metadata": {},
   "outputs": [
    {
     "name": "stdout",
     "output_type": "stream",
     "text": [
      "{'clave1': 'valor1', 'clave2': [1, 2, 3, 4, 5]}\n"
     ]
    }
   ],
   "source": [
    "#diccionario con listas\n",
    "mi_diccionario={'clave1':'valor1','clave2':[1,2,3,4,5]}\n",
    "\n",
    "print(mi_diccionario)\n"
   ]
  },
  {
   "cell_type": "code",
   "execution_count": 32,
   "metadata": {},
   "outputs": [],
   "source": [
    "#asignar un diccionario dentro de otro diccionario\n",
    "mi_diccionario= {'clave1':'valor1','clave2':{'clave2.1':[1,2,3,4,5]}}\n"
   ]
  },
  {
   "cell_type": "code",
   "execution_count": 33,
   "metadata": {},
   "outputs": [
    {
     "name": "stdout",
     "output_type": "stream",
     "text": [
      "{'clave1': 'valor1', 'clave2': {'clave2.1': [1, 2, 3, 4, 5]}}\n"
     ]
    }
   ],
   "source": [
    "print(mi_diccionario)"
   ]
  },
  {
   "cell_type": "code",
   "execution_count": 34,
   "metadata": {},
   "outputs": [
    {
     "name": "stdout",
     "output_type": "stream",
     "text": [
      "dict_keys(['clave1', 'clave2'])\n"
     ]
    }
   ],
   "source": [
    "#keys\n",
    "print(mi_diccionario.keys())"
   ]
  },
  {
   "cell_type": "code",
   "execution_count": 35,
   "metadata": {},
   "outputs": [
    {
     "name": "stdout",
     "output_type": "stream",
     "text": [
      "dict_values(['valor1', {'clave2.1': [1, 2, 3, 4, 5]}])\n"
     ]
    }
   ],
   "source": [
    "print(mi_diccionario.values())"
   ]
  },
  {
   "cell_type": "code",
   "execution_count": 37,
   "metadata": {},
   "outputs": [
    {
     "data": {
      "text/plain": [
       "2"
      ]
     },
     "execution_count": 37,
     "metadata": {},
     "output_type": "execute_result"
    }
   ],
   "source": [
    "len (mi_diccionario)\n",
    "#cuantas claves tiene"
   ]
  }
 ],
 "metadata": {
  "kernelspec": {
   "display_name": "Python 3",
   "language": "python",
   "name": "python3"
  },
  "language_info": {
   "codemirror_mode": {
    "name": "ipython",
    "version": 3
   },
   "file_extension": ".py",
   "mimetype": "text/x-python",
   "name": "python",
   "nbconvert_exporter": "python",
   "pygments_lexer": "ipython3",
   "version": "3.11.4"
  },
  "orig_nbformat": 4
 },
 "nbformat": 4,
 "nbformat_minor": 2
}
