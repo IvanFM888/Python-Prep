{
 "cells": [
  {
   "cell_type": "code",
   "execution_count": 1,
   "metadata": {},
   "outputs": [],
   "source": [
    "#Flujos de control\n",
    "#la forma en que podemos controlar el flujo de ejecución\n",
    "#Estructuras de control de flujo condicionales\n",
    "#Estructuras de control de flujo iterativas\n",
    "\n",
    "#Estructura = Bloque de codigo con funcion determinada \n",
    "#Estructuras de control de flujo condicionales\n",
    "#Condición se evalua si se cumple o no y ejecuta determinada acción\n",
    "#IF condición a evaluar\n",
    "#       tarea en caso de verdadero\n",
    "#else: \n",
    "#       tarea en caso de falso\n",
    "\n",
    "#else + if elif\n",
    "\n",
    "#if (condición 1):\n",
    "#   tarea en caso de que condición 1 sea verdadera\n",
    "#elif (condición 2=):\n",
    "#   tarea en caso de que condición 2 sea verdadera\n",
    "#else:\n",
    "#   tarea en caso de que condición 1 y 2 sean falsas\n",
    "\n",
    "#Sintaxis: Conjunto de reglas que deben seguirse para un código correcto en python \n",
    "\n",
    "\n",
    "#Ejemplo:\n"
   ]
  },
  {
   "cell_type": "code",
   "execution_count": 14,
   "metadata": {},
   "outputs": [
    {
     "name": "stdout",
     "output_type": "stream",
     "text": [
      "a es menor que b\n"
     ]
    }
   ],
   "source": [
    "a = 5\n",
    "b = 7\n",
    "#añadir tab (sangria) para delimitar código para que funcione... \n",
    "if a<b:\n",
    "    print(\"a es menor que b\")\n",
    "elif a>b:\n",
    "    print(\"a es mayor que b\")\n",
    "else:\n",
    "    print(\"a y b son iguales\")"
   ]
  },
  {
   "cell_type": "code",
   "execution_count": 23,
   "metadata": {},
   "outputs": [
    {
     "name": "stdout",
     "output_type": "stream",
     "text": [
      "igual\n"
     ]
    }
   ],
   "source": [
    "num = 10\n",
    "if num>10:\n",
    "    print(\"mayor\")\n",
    "elif num<10:\n",
    "    print(\"menor\")\n",
    "else:\n",
    "    print(\"igual\")\n",
    "\n"
   ]
  },
  {
   "cell_type": "code",
   "execution_count": null,
   "metadata": {},
   "outputs": [],
   "source": [
    "#----------------------------------------------------------------------#\n",
    "#----------------------------------------------------------------------#\n",
    "#BUCLES o Ciclos de Iteración- Ciclos Operativos o Loops:\n",
    "#FOR & WHILE\n",
    "\n",
    "#nos permiten repetir una acción un número determinado de veces \n",
    "#o hasta que se cumpla una condición específica\n",
    "\n",
    "#¿qué son los bucles?\n",
    "#Una forma rápida y sencilla de hacer algo repetidamente"
   ]
  },
  {
   "cell_type": "code",
   "execution_count": null,
   "metadata": {},
   "outputs": [],
   "source": [
    "suma = 0\n",
    "suma = suma+1\n",
    "print(suma)\n",
    "\n"
   ]
  },
  {
   "cell_type": "code",
   "execution_count": 25,
   "metadata": {},
   "outputs": [
    {
     "name": "stdout",
     "output_type": "stream",
     "text": [
      "2\n",
      "3\n",
      "4\n",
      "5\n",
      "6\n"
     ]
    }
   ],
   "source": [
    "#Sintaxis -> FOR\n",
    "#for <elemento> in \n",
    "#   <elemento a iterar>:\n",
    "#    <código>\n",
    "#iterar es realizar cierta acción repetidas veces\n",
    "\n",
    "numeros = [1,2,3,4,5]\n",
    "for num in numeros:\n",
    "    suma=num+1\n",
    "    print(suma)\n"
   ]
  },
  {
   "cell_type": "code",
   "execution_count": 26,
   "metadata": {},
   "outputs": [
    {
     "name": "stdout",
     "output_type": "stream",
     "text": [
      "2\n",
      "3\n",
      "4\n",
      "5\n",
      "6\n"
     ]
    }
   ],
   "source": [
    "for i in range(1,6):\n",
    "    suma=i+1\n",
    "    print(suma)"
   ]
  },
  {
   "cell_type": "code",
   "execution_count": 27,
   "metadata": {},
   "outputs": [
    {
     "name": "stdout",
     "output_type": "stream",
     "text": [
      "2\n",
      "variable de iteración:  1 resultado:  2\n",
      "3\n",
      "variable de iteración:  2 resultado:  3\n",
      "4\n",
      "variable de iteración:  3 resultado:  4\n",
      "5\n",
      "variable de iteración:  4 resultado:  5\n",
      "6\n",
      "variable de iteración:  5 resultado:  6\n"
     ]
    }
   ],
   "source": [
    "for i in range(1,6):\n",
    "    suma=i+1\n",
    "    print(suma)\n",
    "    print(\"variable de iteración: \",i,\"resultado: \",suma)"
   ]
  },
  {
   "cell_type": "code",
   "execution_count": null,
   "metadata": {},
   "outputs": [],
   "source": [
    "numeros = [1,2,3,4,5]\n",
    "for num in numeros: #Numeros es reemplazado por range en el código anterior\n",
    "    suma=num+1\n",
    "    print(suma)"
   ]
  },
  {
   "cell_type": "code",
   "execution_count": 28,
   "metadata": {},
   "outputs": [
    {
     "name": "stdout",
     "output_type": "stream",
     "text": [
      "num 1\n",
      "num 2\n",
      "num 3\n",
      "num 4\n",
      "num 5\n"
     ]
    }
   ],
   "source": [
    "#WHILE\n",
    "\n",
    "#permite repetir una acción siempre y cuando una condición sea verdadera\n",
    "#sintaxis\n",
    "#While  <condición>\n",
    "#   <código>\n",
    "\n",
    "#while expresion_booleana:    \n",
    "#   bloque de código a ejecutar mientras la expresión sea verdadera\n",
    "\n",
    "num = 1\n",
    "while num<6:\n",
    "    print(\"num\",num)\n",
    "    num=num+1\n"
   ]
  },
  {
   "cell_type": "code",
   "execution_count": null,
   "metadata": {},
   "outputs": [],
   "source": [
    "#Diferencia entre FOR y WHILE\n",
    "#FOR se usa cuando conocemos la cantidad máxima exacta de pasos que puede llegar a tener\n",
    "#WHILE se usa cuando no teneos la certeza de cuántas veces necesitamos que este se ejecute\n"
   ]
  },
  {
   "cell_type": "code",
   "execution_count": null,
   "metadata": {},
   "outputs": [],
   "source": [
    "#----------------------------------------------------------------------#\n",
    "#----------------------------------------------------------------------#\n",
    "#Sentencia Break + Sentencia Continue\n",
    "\n"
   ]
  },
  {
   "cell_type": "code",
   "execution_count": 29,
   "metadata": {},
   "outputs": [
    {
     "name": "stdout",
     "output_type": "stream",
     "text": [
      "P\n",
      "y\n",
      "t\n",
      "Se encontró la h\n"
     ]
    }
   ],
   "source": [
    "#la sentencia Break permite alterar el comportamiento de los bucles while y for\n",
    "#una vez se encuentra la palabra break, el bucle se habrá terminado\n",
    "cadena = 'Python'\n",
    "for letra in cadena:\n",
    "    if letra == 'h':\n",
    "        print(\"Se encontró la h\")\n",
    "        break\n",
    "    print(letra)\n"
   ]
  },
  {
   "cell_type": "code",
   "execution_count": 30,
   "metadata": {},
   "outputs": [
    {
     "name": "stdout",
     "output_type": "stream",
     "text": [
      "4\n",
      "3\n",
      "2\n",
      "1\n",
      "0\n",
      "Fin del bucle\n"
     ]
    },
    {
     "ename": "",
     "evalue": "",
     "output_type": "error",
     "traceback": [
      "\u001b[1;31mThe Kernel crashed while executing code in the the current cell or a previous cell. Please review the code in the cell(s) to identify a possible cause of the failure. Click <a href='https://aka.ms/vscodeJupyterKernelCrash'>here</a> for more info. View Jupyter <a href='command:jupyter.viewOutput'>log</a> for further details."
     ]
    }
   ],
   "source": [
    "#uso de continue\n",
    "#la sentencia continue se salta todo el código restante en la iteración actual \n",
    "#y vuelve al principio en el caso de que aún queden iteraciones por completar\n",
    "x = 5\n",
    "while True:\n",
    "    x -= 1\n",
    "    print(x)\n",
    "    if x == 0:\n",
    "        break\n",
    "print(\"Fin del bucle\")"
   ]
  }
 ],
 "metadata": {
  "kernelspec": {
   "display_name": "Python 3",
   "language": "python",
   "name": "python3"
  },
  "language_info": {
   "codemirror_mode": {
    "name": "ipython",
    "version": 3
   },
   "file_extension": ".py",
   "mimetype": "text/x-python",
   "name": "python",
   "nbconvert_exporter": "python",
   "pygments_lexer": "ipython3",
   "version": "3.11.4"
  },
  "orig_nbformat": 4
 },
 "nbformat": 4,
 "nbformat_minor": 2
}
